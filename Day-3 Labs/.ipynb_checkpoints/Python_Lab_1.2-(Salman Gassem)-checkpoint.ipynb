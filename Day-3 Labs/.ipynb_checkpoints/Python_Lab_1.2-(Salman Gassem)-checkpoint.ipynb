{
 "cells": [
  {
   "cell_type": "markdown",
   "metadata": {},
   "source": [
    "# Python_Lab_1.2 (Solved By: Salman Gassem)"
   ]
  },
  {
   "cell_type": "markdown",
   "metadata": {},
   "source": [
    "### Task 1: \n",
    "1. Create a tuple with the following details:\n",
    "    - Your favorite movie (string)\n",
    "    - The year it was released (integer)\n",
    "    - Its rating out of 10 (float)\n",
    "    - Whether you have watched it (boolean)\n",
    "2. Print the detailes"
   ]
  },
  {
   "cell_type": "code",
   "execution_count": 1,
   "metadata": {},
   "outputs": [
    {
     "name": "stdout",
     "output_type": "stream",
     "text": [
      "My favorite movie is: The Matrix\n",
      "Release Year: 1999\n",
      "Rating: 8.7\n",
      "Did I watch it?: True\n"
     ]
    }
   ],
   "source": [
    "# step 1\n",
    "details = (\"The Matrix\", 1999, 8.7, True)\n",
    "\n",
    "# step 2\n",
    "print(f'My favorite movie is: {details[0]}\\nRelease Year: {details[1]}\\nRating: {details[2]}\\nDid I watch it?: {details[3]}')"
   ]
  },
  {
   "cell_type": "markdown",
   "metadata": {},
   "source": [
    "### Task 2:\n",
    "1. Create a set of 5 favorite colors.\n",
    "2. Print all the colors"
   ]
  },
  {
   "cell_type": "code",
   "execution_count": 2,
   "metadata": {},
   "outputs": [
    {
     "name": "stdout",
     "output_type": "stream",
     "text": [
      "{'Black', 'White', 'Blue', 'Green', 'Red'}\n",
      "Black\n",
      "White\n",
      "Blue\n",
      "Green\n",
      "Red\n"
     ]
    }
   ],
   "source": [
    "# step 1\n",
    "colors = {\"Red\", \"Green\", \"Blue\", \"Black\", \"White\"}\n",
    "\n",
    "# step 2, printing the list\n",
    "print(colors)\n",
    "\n",
    "# step2, printing each element on it's own\n",
    "for color in colors:\n",
    "    print(color)"
   ]
  },
  {
   "cell_type": "markdown",
   "metadata": {},
   "source": [
    "### Task 3:\n",
    "1. Create a dictionary to store information about 3 friends (name as key and a tuple with age and favorite hobby as value).\n",
    "2. Print the details of all friends."
   ]
  },
  {
   "cell_type": "code",
   "execution_count": 18,
   "metadata": {},
   "outputs": [
    {
     "name": "stdout",
     "output_type": "stream",
     "text": [
      "Friend #0: Saud, his age is 27 years old, and his favorite hobby is Padel.\n",
      "Friend #1: Mohammed, his age is 25 years old, and his favorite hobby is Soccer.\n",
      "Friend #2: Omar, his age is 29 years old, and his favorite hobby is Swimming.\n"
     ]
    }
   ],
   "source": [
    "# step 1\n",
    "friends = {\n",
    "    'Saud' : (27, 'Padel'),\n",
    "    'Mohammed' : (25, 'Soccer'),\n",
    "    'Omar' : (29, 'Swimming'),\n",
    "}\n",
    "\n",
    "# step 2\n",
    "i = 0\n",
    "for friend, (age, hobby) in friends.items():\n",
    "    print(f'Friend #{i}: {friend}, his age is {age} years old, and his favorite hobby is {hobby}.')\n",
    "    i += 1\n"
   ]
  },
  {
   "cell_type": "markdown",
   "metadata": {},
   "source": [
    "### Task 4:\n",
    "1. Check if you have watched the movie and print an appropriate message.\n",
    "1. Check if a specific color is in your favorite colors set and print its availability status."
   ]
  },
  {
   "cell_type": "code",
   "execution_count": 4,
   "metadata": {},
   "outputs": [
    {
     "name": "stdout",
     "output_type": "stream",
     "text": [
      "I have seen the movie!\n",
      "\n",
      "The color is available!\n"
     ]
    }
   ],
   "source": [
    "# step1\n",
    "if details[3] is True:\n",
    "    print(\"I have seen the movie!\")\n",
    "else:\n",
    "    print(\"I haven't watched it\")\n",
    "\n",
    "# step 2\n",
    "if \"Red\" in colors:\n",
    "    print(\"\\nThe color is available!\")\n",
    "else:\n",
    "    print(\"\\nThis color is NOT available\")"
   ]
  },
  {
   "cell_type": "markdown",
   "metadata": {},
   "source": []
  }
 ],
 "metadata": {
  "kernelspec": {
   "display_name": "Python 3 (ipykernel)",
   "language": "python",
   "name": "python3"
  },
  "language_info": {
   "codemirror_mode": {
    "name": "ipython",
    "version": 3
   },
   "file_extension": ".py",
   "mimetype": "text/x-python",
   "name": "python",
   "nbconvert_exporter": "python",
   "pygments_lexer": "ipython3",
   "version": "3.11.5"
  }
 },
 "nbformat": 4,
 "nbformat_minor": 2
}
